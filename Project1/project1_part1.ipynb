{
 "cells": [
  {
   "cell_type": "code",
   "execution_count": 1,
   "metadata": {
    "collapsed": true
   },
   "outputs": [],
   "source": [
    "# Import libraries.\n",
    "import matplotlib.pyplot as plt\n",
    "import networkx as nx\n",
    "import random"
   ]
  },
  {
   "cell_type": "code",
   "execution_count": 2,
   "metadata": {
    "collapsed": true
   },
   "outputs": [],
   "source": [
    "# Define constants.\n",
    "NUMBER_OF_NODES = 100\n",
    "EDGE_PROBABILITY = 0.1"
   ]
  },
  {
   "cell_type": "code",
   "execution_count": 3,
   "metadata": {
    "collapsed": true
   },
   "outputs": [],
   "source": [
    "# Read names from file.\n",
    "text_file = open('names.txt', 'r')\n",
    "lines = text_file.readlines()\n",
    "text_file.close()"
   ]
  },
  {
   "cell_type": "code",
   "execution_count": 4,
   "metadata": {
    "collapsed": true
   },
   "outputs": [],
   "source": [
    "# Put names in list and create set to store used ones.\n",
    "names = [line.split()[0] for line in lines]\n",
    "used_names = set()"
   ]
  },
  {
   "cell_type": "code",
   "execution_count": 5,
   "metadata": {
    "collapsed": true
   },
   "outputs": [],
   "source": [
    "# # TEST: Test names.\n",
    "# names = ['orange','yellow','blue','green','grey']\n",
    "# used_names = ['orange','yellow','blue','green','grey']"
   ]
  },
  {
   "cell_type": "code",
   "execution_count": 6,
   "metadata": {
    "collapsed": true
   },
   "outputs": [],
   "source": [
    "# Generate random networks.\n",
    "network_1 = nx.fast_gnp_random_graph(NUMBER_OF_NODES, EDGE_PROBABILITY, seed = 1, directed = True)\n",
    "network_2 = nx.fast_gnp_random_graph(NUMBER_OF_NODES, EDGE_PROBABILITY, seed = 2, directed = True)\n",
    "network_3 = nx.fast_gnp_random_graph(NUMBER_OF_NODES, EDGE_PROBABILITY, seed = 3, directed = True)"
   ]
  },
  {
   "cell_type": "code",
   "execution_count": 7,
   "metadata": {
    "collapsed": true
   },
   "outputs": [],
   "source": [
    "# # TEST: Test networks.\n",
    "# network_1 = nx.DiGraph()\n",
    "# network_1.add_edges_from([('n1_1', 'n1_2'),('n1_1', 'n1_3'), ('n1_2', 'n1_3')])\n",
    "# network_2 = nx.DiGraph()\n",
    "# network_2.add_edges_from([('n2_1', 'n2_3'),('n2_2', 'n2_1'), ('n2_3', 'n2_2')])\n",
    "# network_3 = nx.DiGraph()\n",
    "# network_3.add_edges_from([('n3_1', 'n3_2'),('n3_2', 'n3_3'), ('n3_2', 'n3_4'), ('n3_3', 'n3_4')])"
   ]
  },
  {
   "cell_type": "code",
   "execution_count": 8,
   "metadata": {
    "collapsed": true
   },
   "outputs": [],
   "source": [
    "# Put networks in a list.\n",
    "networks = [network_1, network_2, network_3]"
   ]
  },
  {
   "cell_type": "code",
   "execution_count": 9,
   "metadata": {
    "collapsed": true
   },
   "outputs": [],
   "source": [
    "# Relabel network nodes.\n",
    "for network in networks:\n",
    "    relabel_dict = {}\n",
    "    for i in range(NUMBER_OF_NODES):\n",
    "        relabel_dict[i] = 'n' + str(networks.index(network) + 1) + '_'  + str(i)\n",
    "    nx.relabel_nodes(network, relabel_dict, copy = False)"
   ]
  },
  {
   "cell_type": "code",
   "execution_count": 10,
   "metadata": {
    "collapsed": true
   },
   "outputs": [],
   "source": [
    "# Add network node and edge attributes.\n",
    "for network in networks:\n",
    "    for (u, v) in network.edges():\n",
    "        network.edge[u][v]['weight'] = random.random()    \n",
    "    \n",
    "    names_temp = names.copy()\n",
    "    name_dict = {}\n",
    "    threshold_dict = {}\n",
    "    \n",
    "    for node in network.nodes_iter():\n",
    "        name = random.choice(names_temp)\n",
    "        name_dict[node] = name\n",
    "        used_names.add(name)\n",
    "        names_temp.remove(name)\n",
    "        threshold_dict[node] = random.random()\n",
    "    \n",
    "    nx.set_node_attributes(network, 'name', name_dict)\n",
    "    nx.set_node_attributes(network, 'threshold', threshold_dict)\n",
    "    \n",
    "    # Normalize edge weights so that all incoming edge will add up to 1 per node.\n",
    "    for node in network.nodes_iter():\n",
    "        in_edge_sum = 0\n",
    "        in_edges = network.in_edges(node)\n",
    "        for edge in in_edges:\n",
    "            in_edge_sum += network[edge[0]][edge[1]]['weight']\n",
    "            \n",
    "        for edge in in_edges:\n",
    "            network[edge[0]][edge[1]]['weight'] /= in_edge_sum"
   ]
  },
  {
   "cell_type": "code",
   "execution_count": 11,
   "metadata": {
    "collapsed": true
   },
   "outputs": [],
   "source": [
    "# # TEST: Add node names for test data.\n",
    "# network_1.node['n1_1']['name'] = 'orange'\n",
    "# network_1.node['n1_2']['name'] = 'yellow'\n",
    "# network_1.node['n1_3']['name'] = 'blue'\n",
    "\n",
    "# network_2.node['n2_1']['name'] = 'green'\n",
    "# network_2.node['n2_2']['name'] = 'yellow'\n",
    "# network_2.node['n2_3']['name'] = 'blue'\n",
    "\n",
    "# network_3.node['n3_1']['name'] = 'orange'\n",
    "# network_3.node['n3_2']['name'] = 'grey'\n",
    "# network_3.node['n3_3']['name'] = 'green'\n",
    "# network_3.node['n3_4']['name'] = 'yellow'"
   ]
  },
  {
   "cell_type": "code",
   "execution_count": 12,
   "metadata": {
    "collapsed": true,
    "scrolled": true
   },
   "outputs": [],
   "source": [
    "# # Print for check.\n",
    "# print('################# NETWORK 1 #################')\n",
    "# print(network_1.nodes())\n",
    "# print(network_1.edges())\n",
    "# print(nx.get_edge_attributes(network_1, 'weight'))\n",
    "# print(nx.get_node_attributes(network_1, 'name'))\n",
    "# print(nx.get_node_attributes(network_1, 'threshold'))\n",
    "\n",
    "# print('################# NETWORK 2 #################')\n",
    "# print(network_2.nodes())\n",
    "# print(network_2.edges())\n",
    "# print(nx.get_edge_attributes(network_2, 'weight'))\n",
    "# print(nx.get_node_attributes(network_2, 'name'))\n",
    "# print(nx.get_node_attributes(network_2, 'threshold'))\n",
    "\n",
    "# print('################# NETWORK 3 #################')\n",
    "# print(network_3.nodes())\n",
    "# print(network_3.edges())\n",
    "# print(nx.get_edge_attributes(network_3, 'weight'))\n",
    "# print(nx.get_node_attributes(network_3, 'name'))\n",
    "# print(nx.get_node_attributes(network_3, 'threshold'))"
   ]
  },
  {
   "cell_type": "code",
   "execution_count": 13,
   "metadata": {
    "collapsed": true
   },
   "outputs": [],
   "source": [
    "# Combine networks.\n",
    "combined_network = nx.compose_all(networks)"
   ]
  },
  {
   "cell_type": "code",
   "execution_count": 14,
   "metadata": {
    "collapsed": true
   },
   "outputs": [],
   "source": [
    "# Add new edges with gateway nodes with weight.\n",
    "for name in used_names:\n",
    "    for network in networks:\n",
    "        for node, node_name in nx.get_node_attributes(network, 'name').items():\n",
    "            if name == node_name:\n",
    "                out_edges = []\n",
    "                if len(network.out_edges(node)) > 0:\n",
    "                    out_edges = network.out_edges(node)\n",
    "                for edge in out_edges:\n",
    "                    combined_network.remove_edge(edge[0],edge[1])\n",
    "                    combined_network.add_edge(name, edge[1], attr_dict = {'weight': network.edge[edge[0]][edge[1]]['weight']})"
   ]
  },
  {
   "cell_type": "code",
   "execution_count": 15,
   "metadata": {
    "collapsed": true
   },
   "outputs": [],
   "source": [
    "# Add 0 threshold to gateway nodes.\n",
    "for name in used_names:\n",
    "    if name in combined_network:\n",
    "        combined_network.node[name]['threshold'] = 1"
   ]
  },
  {
   "cell_type": "code",
   "execution_count": 16,
   "metadata": {},
   "outputs": [],
   "source": [
    "# Add connections for same user in different networks.\n",
    "# Representative nodes - gateway nodes connection.\n",
    "for name in used_names:\n",
    "    if name in combined_network:\n",
    "        for node, node_name in nx.get_node_attributes(combined_network, 'name').items():\n",
    "            if name == node_name:\n",
    "                combined_network.add_edge(name, node, attr_dict = {'weight': combined_network.node[node]['threshold']})\n",
    "                combined_network.add_edge(node, name, attr_dict = {'weight': 1})\n",
    "                \n",
    "# Representative nodes - representative nodes connection.\n",
    "for name in used_names:\n",
    "    for node, node_name in nx.get_node_attributes(combined_network, 'name').items():\n",
    "        for node2, node_name2 in nx.get_node_attributes(combined_network, 'name').items():\n",
    "            if node != node2 and node_name == node_name2 and not combined_network.has_edge(node, node2):\n",
    "                combined_network.add_edge(node, node2, attr_dict = {'weight': combined_network.node[node2]['threshold']})\n",
    "                combined_network.add_edge(node2, node, attr_dict = {'weight': combined_network.node[node]['threshold']})"
   ]
  },
  {
   "cell_type": "code",
   "execution_count": 17,
   "metadata": {
    "collapsed": true
   },
   "outputs": [],
   "source": [
    "# Add dummy nodes.\n",
    "for name in used_names:\n",
    "    is_in_network = ['False0', 'False1', 'False2']\n",
    "    for network in networks:\n",
    "        for node, node_name in nx.get_node_attributes(network, 'name').items():\n",
    "            if name == node_name:\n",
    "                is_in_network[networks.index(network)] = 'True' + str(networks.index(network))\n",
    "                   \n",
    "    for found in is_in_network:\n",
    "        index = is_in_network.index(found)\n",
    "        if ('False' + str(index)) == found:\n",
    "            networks[index].add_node('n' + str(index + 1) + '_' + str(networks[index].number_of_nodes() + 1), attr_dict = {'name': name})\n",
    "            combined_network.add_node('n' + str(index + 1) + '_' + str(networks[index].number_of_nodes()), attr_dict = {'name': name, 'threshold': 1})"
   ]
  },
  {
   "cell_type": "code",
   "execution_count": 18,
   "metadata": {},
   "outputs": [],
   "source": [
    "# # Print for check.\n",
    "# print(combined_network.number_of_nodes())\n",
    "# print(combined_network.number_of_edges())\n",
    "# print(combined_network.nodes())\n",
    "# print(combined_network.edges())"
   ]
  }
 ],
 "metadata": {
  "kernelspec": {
   "display_name": "Python 3",
   "language": "python",
   "name": "python3"
  },
  "language_info": {
   "codemirror_mode": {
    "name": "ipython",
    "version": 3
   },
   "file_extension": ".py",
   "mimetype": "text/x-python",
   "name": "python",
   "nbconvert_exporter": "python",
   "pygments_lexer": "ipython3",
   "version": "3.6.3"
  }
 },
 "nbformat": 4,
 "nbformat_minor": 2
}
